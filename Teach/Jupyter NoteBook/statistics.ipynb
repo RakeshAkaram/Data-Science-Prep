{
 "cells": [
  {
   "cell_type": "code",
   "execution_count": 1,
   "id": "7e424a09",
   "metadata": {},
   "outputs": [],
   "source": [
    "import numpy as np"
   ]
  },
  {
   "cell_type": "code",
   "execution_count": 2,
   "id": "8c589820",
   "metadata": {},
   "outputs": [
    {
     "data": {
      "text/plain": [
       "19.166666666666668"
      ]
     },
     "execution_count": 2,
     "metadata": {},
     "output_type": "execute_result"
    }
   ],
   "source": [
    "x=[1,2,3,4,5,100]\n",
    "np.mean(x)"
   ]
  },
  {
   "cell_type": "code",
   "execution_count": 3,
   "id": "c8aebd38",
   "metadata": {},
   "outputs": [
    {
     "data": {
      "text/plain": [
       "3.5"
      ]
     },
     "execution_count": 3,
     "metadata": {},
     "output_type": "execute_result"
    }
   ],
   "source": [
    "np.median(x)"
   ]
  },
  {
   "cell_type": "code",
   "execution_count": 4,
   "id": "5312464e",
   "metadata": {},
   "outputs": [],
   "source": [
    "from scipy import stats as s"
   ]
  },
  {
   "cell_type": "code",
   "execution_count": 5,
   "id": "8fbabc58",
   "metadata": {},
   "outputs": [],
   "source": [
    "y=[1,2,3,4,5,100,5]"
   ]
  },
  {
   "cell_type": "code",
   "execution_count": 6,
   "id": "b8ea49ab",
   "metadata": {},
   "outputs": [
    {
     "data": {
      "text/plain": [
       "ModeResult(mode=5, count=2)"
      ]
     },
     "execution_count": 6,
     "metadata": {},
     "output_type": "execute_result"
    }
   ],
   "source": [
    "s.mode(y)"
   ]
  },
  {
   "cell_type": "code",
   "execution_count": null,
   "id": "f244fc15",
   "metadata": {},
   "outputs": [],
   "source": []
  }
 ],
 "metadata": {
  "kernelspec": {
   "display_name": "Python 3 (ipykernel)",
   "language": "python",
   "name": "python3"
  },
  "language_info": {
   "codemirror_mode": {
    "name": "ipython",
    "version": 3
   },
   "file_extension": ".py",
   "mimetype": "text/x-python",
   "name": "python",
   "nbconvert_exporter": "python",
   "pygments_lexer": "ipython3",
   "version": "3.11.7"
  }
 },
 "nbformat": 4,
 "nbformat_minor": 5
}
